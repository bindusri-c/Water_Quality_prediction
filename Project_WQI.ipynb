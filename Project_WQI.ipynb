{
  "cells": [
    {
      "cell_type": "code",
      "execution_count": null,
      "id": "05dc1e7e",
      "metadata": {
        "id": "05dc1e7e"
      },
      "outputs": [],
      "source": [
        "#Importing required libraries\n",
        "import numpy as np\n",
        "import pandas as pd\n",
        "import matplotlib.pyplot as plt"
      ]
    },
    {
      "cell_type": "code",
      "execution_count": null,
      "id": "7c365573",
      "metadata": {
        "id": "7c365573"
      },
      "outputs": [],
      "source": [
        "data=pd.read_excel(r\"C:\\Users\\91939\\OneDrive\\Desktop\\2021.xlsx\")"
      ]
    },
    {
      "cell_type": "code",
      "execution_count": null,
      "id": "89d460eb",
      "metadata": {
        "id": "89d460eb",
        "outputId": "84100671-f402-4e32-ee28-db949c62cfec"
      },
      "outputs": [
        {
          "data": {
            "text/plain": [
              "STATION CODE                        object\n",
              "LOCATIONS                           object\n",
              "STATE                               object\n",
              "Temp                                object\n",
              "D.O. (mg/l)                         object\n",
              "PH                                  object\n",
              "CONDUCTIVITY (µmhos/cm)             object\n",
              "B.O.D. (mg/l)                       object\n",
              "NITRATENAN N+ NITRITENANN (mg/l)    object\n",
              "FECAL COLIFORM (MPN/100ml)          object\n",
              "TOTAL COLIFORM (MPN/100ml)Mean      object\n",
              "year                                 int64\n",
              "dtype: object"
            ]
          },
          "execution_count": 3,
          "metadata": {},
          "output_type": "execute_result"
        }
      ],
      "source": [
        "data.dtypes"
      ]
    },
    {
      "cell_type": "code",
      "execution_count": null,
      "id": "1a8f5f9e",
      "metadata": {
        "id": "1a8f5f9e"
      },
      "outputs": [],
      "source": [
        "data['Temp']=pd.to_numeric(data['Temp'],errors='coerce')\n",
        "data['D.O. (mg/l)']=pd.to_numeric(data['D.O. (mg/l)'],errors='coerce')\n",
        "data['PH']=pd.to_numeric(data['PH'],errors='coerce')\n",
        "data['B.O.D. (mg/l)']=pd.to_numeric(data['B.O.D. (mg/l)'],errors='coerce')\n",
        "data['CONDUCTIVITY (µmhos/cm)']=pd.to_numeric(data['CONDUCTIVITY (µmhos/cm)'],errors='coerce')\n",
        "data['NITRATENAN N+ NITRITENANN (mg/l)']=pd.to_numeric(data['NITRATENAN N+ NITRITENANN (mg/l)'],errors='coerce')\n",
        "data['TOTAL COLIFORM (MPN/100ml)Mean']=pd.to_numeric(data['TOTAL COLIFORM (MPN/100ml)Mean'],errors='coerce')\n",
        "data['FECAL COLIFORM (MPN/100ml)']=pd.to_numeric(data['FECAL COLIFORM (MPN/100ml)'],errors='coerce')"
      ]
    },
    {
      "cell_type": "code",
      "execution_count": null,
      "id": "2d97cd83",
      "metadata": {
        "id": "2d97cd83",
        "outputId": "68cb34f2-b635-4155-bbea-bce40ecf3ce1"
      },
      "outputs": [
        {
          "data": {
            "text/plain": [
              "STATION CODE                         object\n",
              "LOCATIONS                            object\n",
              "STATE                                object\n",
              "Temp                                float64\n",
              "D.O. (mg/l)                         float64\n",
              "PH                                  float64\n",
              "CONDUCTIVITY (µmhos/cm)             float64\n",
              "B.O.D. (mg/l)                       float64\n",
              "NITRATENAN N+ NITRITENANN (mg/l)    float64\n",
              "FECAL COLIFORM (MPN/100ml)          float64\n",
              "TOTAL COLIFORM (MPN/100ml)Mean      float64\n",
              "year                                  int64\n",
              "dtype: object"
            ]
          },
          "execution_count": 5,
          "metadata": {},
          "output_type": "execute_result"
        }
      ],
      "source": [
        "data.dtypes"
      ]
    },
    {
      "cell_type": "code",
      "execution_count": null,
      "id": "f926b471",
      "metadata": {
        "id": "f926b471",
        "outputId": "6fa435cb-a21b-4de4-b5e5-1faaca7d6a86"
      },
      "outputs": [
        {
          "data": {
            "text/plain": [
              "(4285, 12)"
            ]
          },
          "execution_count": 6,
          "metadata": {},
          "output_type": "execute_result"
        }
      ],
      "source": [
        "data.shape"
      ]
    },
    {
      "cell_type": "code",
      "execution_count": null,
      "id": "87021629",
      "metadata": {
        "id": "87021629",
        "outputId": "175baf22-2d3d-4471-89c7-54b9f5c54ed1"
      },
      "outputs": [
        {
          "data": {
            "text/plain": [
              "dtype('float64')"
            ]
          },
          "execution_count": 7,
          "metadata": {},
          "output_type": "execute_result"
        }
      ],
      "source": [
        "start=0\n",
        "end=3971\n",
        "station=data.iloc [start:end ,0]\n",
        "location=data.iloc [start:end ,1]\n",
        "state=data.iloc [start:end ,2]\n",
        "do= data.iloc [start:end ,4].astype(np.float64)\n",
        "value=0\n",
        "ph = data.iloc[ start:end,5]\n",
        "co = data.iloc [start:end ,6].astype(np.float64)\n",
        "\n",
        "year=data.iloc[start:end,11]\n",
        "tc=data.iloc [start:end ,10].astype(np.float64)\n",
        "\n",
        "\n",
        "bod = data.iloc [start:end ,7].astype(np.float64)\n",
        "na= data.iloc [start:end ,8].astype(np.float64)\n",
        "na.dtype"
      ]
    },
    {
      "cell_type": "code",
      "execution_count": null,
      "id": "bfc73db9",
      "metadata": {
        "id": "bfc73db9",
        "outputId": "f709fd59-b283-43ae-d28d-0e94463e0e72"
      },
      "outputs": [
        {
          "data": {
            "text/html": [
              "<div>\n",
              "<style scoped>\n",
              "    .dataframe tbody tr th:only-of-type {\n",
              "        vertical-align: middle;\n",
              "    }\n",
              "\n",
              "    .dataframe tbody tr th {\n",
              "        vertical-align: top;\n",
              "    }\n",
              "\n",
              "    .dataframe thead th {\n",
              "        text-align: right;\n",
              "    }\n",
              "</style>\n",
              "<table border=\"1\" class=\"dataframe\">\n",
              "  <thead>\n",
              "    <tr style=\"text-align: right;\">\n",
              "      <th></th>\n",
              "      <th>STATION CODE</th>\n",
              "      <th>LOCATIONS</th>\n",
              "      <th>STATE</th>\n",
              "      <th>Temp</th>\n",
              "      <th>D.O. (mg/l)</th>\n",
              "      <th>PH</th>\n",
              "      <th>CONDUCTIVITY (µmhos/cm)</th>\n",
              "      <th>B.O.D. (mg/l)</th>\n",
              "      <th>NITRATENAN N+ NITRITENANN (mg/l)</th>\n",
              "      <th>FECAL COLIFORM (MPN/100ml)</th>\n",
              "      <th>TOTAL COLIFORM (MPN/100ml)Mean</th>\n",
              "      <th>year</th>\n",
              "    </tr>\n",
              "  </thead>\n",
              "  <tbody>\n",
              "    <tr>\n",
              "      <th>0</th>\n",
              "      <td>1448</td>\n",
              "      <td>RIVER NAGAVALI AT THOTAPALLI REGULATOR,\\nVIZIA...</td>\n",
              "      <td>ANDHRA PRADESH</td>\n",
              "      <td>32.0</td>\n",
              "      <td>5.9</td>\n",
              "      <td>8.2</td>\n",
              "      <td>400.0</td>\n",
              "      <td>2.0</td>\n",
              "      <td>1.66</td>\n",
              "      <td>15.0</td>\n",
              "      <td>93.0</td>\n",
              "      <td>2021</td>\n",
              "    </tr>\n",
              "    <tr>\n",
              "      <th>1</th>\n",
              "      <td>4351</td>\n",
              "      <td>RIVER NAGAVALI IMMEDIATE BORDER BETWEEN ANDHRA...</td>\n",
              "      <td>ANDHRA PRADESH</td>\n",
              "      <td>32.0</td>\n",
              "      <td>8.3</td>\n",
              "      <td>8.5</td>\n",
              "      <td>612.0</td>\n",
              "      <td>2.5</td>\n",
              "      <td>3.02</td>\n",
              "      <td>21.0</td>\n",
              "      <td>150.0</td>\n",
              "      <td>2021</td>\n",
              "    </tr>\n",
              "    <tr>\n",
              "      <th>2</th>\n",
              "      <td>4346</td>\n",
              "      <td>RIVER NAGAVALI NEAR NH- 16 BRIDGE, UPSTREAM (U...</td>\n",
              "      <td>ANDHRA PRADESH</td>\n",
              "      <td>32.0</td>\n",
              "      <td>8.4</td>\n",
              "      <td>8.8</td>\n",
              "      <td>400.0</td>\n",
              "      <td>2.0</td>\n",
              "      <td>3.60</td>\n",
              "      <td>15.0</td>\n",
              "      <td>120.0</td>\n",
              "      <td>2021</td>\n",
              "    </tr>\n",
              "    <tr>\n",
              "      <th>3</th>\n",
              "      <td>4347</td>\n",
              "      <td>RIVER NAGAVALI NEAR WATER PUMP HOUSE (KILLIPAL...</td>\n",
              "      <td>ANDHRA PRADESH</td>\n",
              "      <td>32.0</td>\n",
              "      <td>7.5</td>\n",
              "      <td>8.4</td>\n",
              "      <td>648.0</td>\n",
              "      <td>2.3</td>\n",
              "      <td>4.02</td>\n",
              "      <td>15.0</td>\n",
              "      <td>150.0</td>\n",
              "      <td>2021</td>\n",
              "    </tr>\n",
              "    <tr>\n",
              "      <th>4</th>\n",
              "      <td>4348</td>\n",
              "      <td>RIVER VAMSADHARA, IMMEDIATE BORDER BETWEEN AND...</td>\n",
              "      <td>ANDHRA PRADESH</td>\n",
              "      <td>28.0</td>\n",
              "      <td>8.3</td>\n",
              "      <td>8.5</td>\n",
              "      <td>410.0</td>\n",
              "      <td>2.2</td>\n",
              "      <td>2.46</td>\n",
              "      <td>21.0</td>\n",
              "      <td>150.0</td>\n",
              "      <td>2021</td>\n",
              "    </tr>\n",
              "  </tbody>\n",
              "</table>\n",
              "</div>"
            ],
            "text/plain": [
              "  STATION CODE                                          LOCATIONS  \\\n",
              "0         1448  RIVER NAGAVALI AT THOTAPALLI REGULATOR,\\nVIZIA...   \n",
              "1         4351  RIVER NAGAVALI IMMEDIATE BORDER BETWEEN ANDHRA...   \n",
              "2         4346  RIVER NAGAVALI NEAR NH- 16 BRIDGE, UPSTREAM (U...   \n",
              "3         4347  RIVER NAGAVALI NEAR WATER PUMP HOUSE (KILLIPAL...   \n",
              "4         4348  RIVER VAMSADHARA, IMMEDIATE BORDER BETWEEN AND...   \n",
              "\n",
              "            STATE  Temp  D.O. (mg/l)   PH  CONDUCTIVITY (µmhos/cm)  \\\n",
              "0  ANDHRA PRADESH  32.0          5.9  8.2                    400.0   \n",
              "1  ANDHRA PRADESH  32.0          8.3  8.5                    612.0   \n",
              "2  ANDHRA PRADESH  32.0          8.4  8.8                    400.0   \n",
              "3  ANDHRA PRADESH  32.0          7.5  8.4                    648.0   \n",
              "4  ANDHRA PRADESH  28.0          8.3  8.5                    410.0   \n",
              "\n",
              "   B.O.D. (mg/l)  NITRATENAN N+ NITRITENANN (mg/l)  \\\n",
              "0            2.0                              1.66   \n",
              "1            2.5                              3.02   \n",
              "2            2.0                              3.60   \n",
              "3            2.3                              4.02   \n",
              "4            2.2                              2.46   \n",
              "\n",
              "   FECAL COLIFORM (MPN/100ml)  TOTAL COLIFORM (MPN/100ml)Mean  year  \n",
              "0                        15.0                            93.0  2021  \n",
              "1                        21.0                           150.0  2021  \n",
              "2                        15.0                           120.0  2021  \n",
              "3                        15.0                           150.0  2021  \n",
              "4                        21.0                           150.0  2021  "
            ]
          },
          "execution_count": 8,
          "metadata": {},
          "output_type": "execute_result"
        }
      ],
      "source": [
        "data.head()"
      ]
    },
    {
      "cell_type": "code",
      "execution_count": null,
      "id": "5db757dd",
      "metadata": {
        "id": "5db757dd"
      },
      "outputs": [],
      "source": [
        "data=pd.concat([station,location,state,do,ph,co,bod,na,tc,year],axis=1)\n",
        "data. columns = ['station','location','state','do','ph','co','bod','na','tc','year']"
      ]
    },
    {
      "cell_type": "code",
      "execution_count": null,
      "id": "00bc3036",
      "metadata": {
        "id": "00bc3036"
      },
      "outputs": [],
      "source": [
        "#calculation of PH\n",
        "data['npH']=data.ph.apply(lambda x: (100 if (8.5>=x>=7)\n",
        "                                 else(80 if  (8.6>=x>=8.5) or (6.9>=x>=6.8)\n",
        "                                      else(60 if (8.8>=x>=8.6) or (6.8>=x>=6.7)\n",
        "                                          else(40 if (9>=x>=8.8) or (6.7>=x>=6.5)\n",
        "                                              else 0)))))\n",
        "\n",
        "#calculation of Dissolved Oxygen\n",
        "data['ndo']=data.do.apply(lambda x:(100 if (x>=6)\n",
        "                                 else(80 if  (6>=x>=5.1)\n",
        "                                      else(60 if (5>=x>=4.1)\n",
        "                                          else(40 if (4>=x>=3)\n",
        "                                              else 0)))))\n",
        "\n",
        "#calculation of Total Coliform\n",
        "data['nco']=data.tc.apply(lambda x:(100 if (5>=x>=0)\n",
        "                                 else(80 if  (50>=x>=5)\n",
        "                                      else(60 if (500>=x>=50)\n",
        "                                          else(40 if (10000>=x>=500)\n",
        "                                              else 0)))))\n",
        "\n",
        "#calc of B.O.D\n",
        "data['nbod']=data.bod.apply(lambda x:(100 if (3>=x>=0)\n",
        "                                 else(80 if  (6>=x>=3)\n",
        "                                      else(60 if (80>=x>=6)\n",
        "                                          else(40 if (125>=x>=80)\n",
        "                                              else 0)))))\n",
        "\n",
        "#calculation of electrical conductivity\n",
        "data['nec']=data.co.apply(lambda x:(100 if (75>=x>=0)\n",
        "                                 else(80 if  (150>=x>=75)\n",
        "                                      else(60 if (225>=x>=150)\n",
        "                                          else(40 if (300>=x>=225)\n",
        "                                              else 0)))))\n",
        "\n",
        "#Calulation of nitrate\n",
        "data['nna']=data.na.apply(lambda x:(100 if (20>=x>=0)\n",
        "                                 else(80 if  (50>=x>=20)\n",
        "                                      else(60 if (100>=x>=50)\n",
        "                                          else(40 if (200>=x>=100)\n",
        "                                              else 0)))))"
      ]
    },
    {
      "cell_type": "code",
      "execution_count": null,
      "id": "75abfda7",
      "metadata": {
        "id": "75abfda7",
        "outputId": "ac83a85d-45de-4a66-e3f8-ef427923d46d"
      },
      "outputs": [
        {
          "data": {
            "text/html": [
              "<div>\n",
              "<style scoped>\n",
              "    .dataframe tbody tr th:only-of-type {\n",
              "        vertical-align: middle;\n",
              "    }\n",
              "\n",
              "    .dataframe tbody tr th {\n",
              "        vertical-align: top;\n",
              "    }\n",
              "\n",
              "    .dataframe thead th {\n",
              "        text-align: right;\n",
              "    }\n",
              "</style>\n",
              "<table border=\"1\" class=\"dataframe\">\n",
              "  <thead>\n",
              "    <tr style=\"text-align: right;\">\n",
              "      <th></th>\n",
              "      <th>station</th>\n",
              "      <th>location</th>\n",
              "      <th>state</th>\n",
              "      <th>do</th>\n",
              "      <th>ph</th>\n",
              "      <th>co</th>\n",
              "      <th>bod</th>\n",
              "      <th>na</th>\n",
              "      <th>tc</th>\n",
              "      <th>year</th>\n",
              "      <th>npH</th>\n",
              "      <th>ndo</th>\n",
              "      <th>nco</th>\n",
              "      <th>nbod</th>\n",
              "      <th>nec</th>\n",
              "      <th>nna</th>\n",
              "    </tr>\n",
              "  </thead>\n",
              "  <tbody>\n",
              "    <tr>\n",
              "      <th>0</th>\n",
              "      <td>1448</td>\n",
              "      <td>RIVER NAGAVALI AT THOTAPALLI REGULATOR,\\nVIZIA...</td>\n",
              "      <td>ANDHRA PRADESH</td>\n",
              "      <td>5.9</td>\n",
              "      <td>8.2</td>\n",
              "      <td>400.0</td>\n",
              "      <td>2.0</td>\n",
              "      <td>1.66</td>\n",
              "      <td>93.0</td>\n",
              "      <td>2021</td>\n",
              "      <td>100</td>\n",
              "      <td>80</td>\n",
              "      <td>60</td>\n",
              "      <td>100</td>\n",
              "      <td>0</td>\n",
              "      <td>100</td>\n",
              "    </tr>\n",
              "    <tr>\n",
              "      <th>1</th>\n",
              "      <td>4351</td>\n",
              "      <td>RIVER NAGAVALI IMMEDIATE BORDER BETWEEN ANDHRA...</td>\n",
              "      <td>ANDHRA PRADESH</td>\n",
              "      <td>8.3</td>\n",
              "      <td>8.5</td>\n",
              "      <td>612.0</td>\n",
              "      <td>2.5</td>\n",
              "      <td>3.02</td>\n",
              "      <td>150.0</td>\n",
              "      <td>2021</td>\n",
              "      <td>100</td>\n",
              "      <td>100</td>\n",
              "      <td>60</td>\n",
              "      <td>100</td>\n",
              "      <td>0</td>\n",
              "      <td>100</td>\n",
              "    </tr>\n",
              "    <tr>\n",
              "      <th>2</th>\n",
              "      <td>4346</td>\n",
              "      <td>RIVER NAGAVALI NEAR NH- 16 BRIDGE, UPSTREAM (U...</td>\n",
              "      <td>ANDHRA PRADESH</td>\n",
              "      <td>8.4</td>\n",
              "      <td>8.8</td>\n",
              "      <td>400.0</td>\n",
              "      <td>2.0</td>\n",
              "      <td>3.60</td>\n",
              "      <td>120.0</td>\n",
              "      <td>2021</td>\n",
              "      <td>60</td>\n",
              "      <td>100</td>\n",
              "      <td>60</td>\n",
              "      <td>100</td>\n",
              "      <td>0</td>\n",
              "      <td>100</td>\n",
              "    </tr>\n",
              "    <tr>\n",
              "      <th>3</th>\n",
              "      <td>4347</td>\n",
              "      <td>RIVER NAGAVALI NEAR WATER PUMP HOUSE (KILLIPAL...</td>\n",
              "      <td>ANDHRA PRADESH</td>\n",
              "      <td>7.5</td>\n",
              "      <td>8.4</td>\n",
              "      <td>648.0</td>\n",
              "      <td>2.3</td>\n",
              "      <td>4.02</td>\n",
              "      <td>150.0</td>\n",
              "      <td>2021</td>\n",
              "      <td>100</td>\n",
              "      <td>100</td>\n",
              "      <td>60</td>\n",
              "      <td>100</td>\n",
              "      <td>0</td>\n",
              "      <td>100</td>\n",
              "    </tr>\n",
              "    <tr>\n",
              "      <th>4</th>\n",
              "      <td>4348</td>\n",
              "      <td>RIVER VAMSADHARA, IMMEDIATE BORDER BETWEEN AND...</td>\n",
              "      <td>ANDHRA PRADESH</td>\n",
              "      <td>8.3</td>\n",
              "      <td>8.5</td>\n",
              "      <td>410.0</td>\n",
              "      <td>2.2</td>\n",
              "      <td>2.46</td>\n",
              "      <td>150.0</td>\n",
              "      <td>2021</td>\n",
              "      <td>100</td>\n",
              "      <td>100</td>\n",
              "      <td>60</td>\n",
              "      <td>100</td>\n",
              "      <td>0</td>\n",
              "      <td>100</td>\n",
              "    </tr>\n",
              "  </tbody>\n",
              "</table>\n",
              "</div>"
            ],
            "text/plain": [
              "  station                                           location           state  \\\n",
              "0    1448  RIVER NAGAVALI AT THOTAPALLI REGULATOR,\\nVIZIA...  ANDHRA PRADESH   \n",
              "1    4351  RIVER NAGAVALI IMMEDIATE BORDER BETWEEN ANDHRA...  ANDHRA PRADESH   \n",
              "2    4346  RIVER NAGAVALI NEAR NH- 16 BRIDGE, UPSTREAM (U...  ANDHRA PRADESH   \n",
              "3    4347  RIVER NAGAVALI NEAR WATER PUMP HOUSE (KILLIPAL...  ANDHRA PRADESH   \n",
              "4    4348  RIVER VAMSADHARA, IMMEDIATE BORDER BETWEEN AND...  ANDHRA PRADESH   \n",
              "\n",
              "    do   ph     co  bod    na     tc  year  npH  ndo  nco  nbod  nec  nna  \n",
              "0  5.9  8.2  400.0  2.0  1.66   93.0  2021  100   80   60   100    0  100  \n",
              "1  8.3  8.5  612.0  2.5  3.02  150.0  2021  100  100   60   100    0  100  \n",
              "2  8.4  8.8  400.0  2.0  3.60  120.0  2021   60  100   60   100    0  100  \n",
              "3  7.5  8.4  648.0  2.3  4.02  150.0  2021  100  100   60   100    0  100  \n",
              "4  8.3  8.5  410.0  2.2  2.46  150.0  2021  100  100   60   100    0  100  "
            ]
          },
          "execution_count": 11,
          "metadata": {},
          "output_type": "execute_result"
        }
      ],
      "source": [
        "data.head()"
      ]
    },
    {
      "cell_type": "code",
      "execution_count": null,
      "id": "471466f3",
      "metadata": {
        "id": "471466f3",
        "outputId": "c302573e-2c1e-44ad-aa9f-e8da956a80ef"
      },
      "outputs": [
        {
          "data": {
            "text/plain": [
              "station      object\n",
              "location     object\n",
              "state        object\n",
              "do          float64\n",
              "ph          float64\n",
              "co          float64\n",
              "bod         float64\n",
              "na          float64\n",
              "tc          float64\n",
              "year          int64\n",
              "npH           int64\n",
              "ndo           int64\n",
              "nco           int64\n",
              "nbod          int64\n",
              "nec           int64\n",
              "nna           int64\n",
              "dtype: object"
            ]
          },
          "execution_count": 12,
          "metadata": {},
          "output_type": "execute_result"
        }
      ],
      "source": [
        "data.dtypes"
      ]
    },
    {
      "cell_type": "code",
      "execution_count": null,
      "id": "b811d68c",
      "metadata": {
        "id": "b811d68c",
        "outputId": "207db2e0-da08-4f2f-911b-6e0e36a95f0b"
      },
      "outputs": [
        {
          "data": {
            "text/html": [
              "<div>\n",
              "<style scoped>\n",
              "    .dataframe tbody tr th:only-of-type {\n",
              "        vertical-align: middle;\n",
              "    }\n",
              "\n",
              "    .dataframe tbody tr th {\n",
              "        vertical-align: top;\n",
              "    }\n",
              "\n",
              "    .dataframe thead th {\n",
              "        text-align: right;\n",
              "    }\n",
              "</style>\n",
              "<table border=\"1\" class=\"dataframe\">\n",
              "  <thead>\n",
              "    <tr style=\"text-align: right;\">\n",
              "      <th></th>\n",
              "      <th>station</th>\n",
              "      <th>location</th>\n",
              "      <th>state</th>\n",
              "      <th>do</th>\n",
              "      <th>ph</th>\n",
              "      <th>co</th>\n",
              "      <th>bod</th>\n",
              "      <th>na</th>\n",
              "      <th>tc</th>\n",
              "      <th>year</th>\n",
              "      <th>...</th>\n",
              "      <th>nbod</th>\n",
              "      <th>nec</th>\n",
              "      <th>nna</th>\n",
              "      <th>wph</th>\n",
              "      <th>wdo</th>\n",
              "      <th>wbod</th>\n",
              "      <th>wec</th>\n",
              "      <th>wna</th>\n",
              "      <th>wco</th>\n",
              "      <th>wqi</th>\n",
              "    </tr>\n",
              "  </thead>\n",
              "  <tbody>\n",
              "    <tr>\n",
              "      <th>0</th>\n",
              "      <td>1448</td>\n",
              "      <td>RIVER NAGAVALI AT THOTAPALLI REGULATOR,\\nVIZIA...</td>\n",
              "      <td>ANDHRA PRADESH</td>\n",
              "      <td>5.9</td>\n",
              "      <td>8.2</td>\n",
              "      <td>400.0</td>\n",
              "      <td>2.0</td>\n",
              "      <td>1.66</td>\n",
              "      <td>93.0</td>\n",
              "      <td>2021</td>\n",
              "      <td>...</td>\n",
              "      <td>100</td>\n",
              "      <td>0</td>\n",
              "      <td>100</td>\n",
              "      <td>16.5</td>\n",
              "      <td>22.48</td>\n",
              "      <td>23.4</td>\n",
              "      <td>0.00</td>\n",
              "      <td>2.8</td>\n",
              "      <td>16.86</td>\n",
              "      <td>82.04</td>\n",
              "    </tr>\n",
              "    <tr>\n",
              "      <th>1</th>\n",
              "      <td>4351</td>\n",
              "      <td>RIVER NAGAVALI IMMEDIATE BORDER BETWEEN ANDHRA...</td>\n",
              "      <td>ANDHRA PRADESH</td>\n",
              "      <td>8.3</td>\n",
              "      <td>8.5</td>\n",
              "      <td>612.0</td>\n",
              "      <td>2.5</td>\n",
              "      <td>3.02</td>\n",
              "      <td>150.0</td>\n",
              "      <td>2021</td>\n",
              "      <td>...</td>\n",
              "      <td>100</td>\n",
              "      <td>0</td>\n",
              "      <td>100</td>\n",
              "      <td>16.5</td>\n",
              "      <td>28.10</td>\n",
              "      <td>23.4</td>\n",
              "      <td>0.00</td>\n",
              "      <td>2.8</td>\n",
              "      <td>16.86</td>\n",
              "      <td>87.66</td>\n",
              "    </tr>\n",
              "    <tr>\n",
              "      <th>2</th>\n",
              "      <td>4346</td>\n",
              "      <td>RIVER NAGAVALI NEAR NH- 16 BRIDGE, UPSTREAM (U...</td>\n",
              "      <td>ANDHRA PRADESH</td>\n",
              "      <td>8.4</td>\n",
              "      <td>8.8</td>\n",
              "      <td>400.0</td>\n",
              "      <td>2.0</td>\n",
              "      <td>3.60</td>\n",
              "      <td>120.0</td>\n",
              "      <td>2021</td>\n",
              "      <td>...</td>\n",
              "      <td>100</td>\n",
              "      <td>0</td>\n",
              "      <td>100</td>\n",
              "      <td>9.9</td>\n",
              "      <td>28.10</td>\n",
              "      <td>23.4</td>\n",
              "      <td>0.00</td>\n",
              "      <td>2.8</td>\n",
              "      <td>16.86</td>\n",
              "      <td>81.06</td>\n",
              "    </tr>\n",
              "    <tr>\n",
              "      <th>3</th>\n",
              "      <td>4347</td>\n",
              "      <td>RIVER NAGAVALI NEAR WATER PUMP HOUSE (KILLIPAL...</td>\n",
              "      <td>ANDHRA PRADESH</td>\n",
              "      <td>7.5</td>\n",
              "      <td>8.4</td>\n",
              "      <td>648.0</td>\n",
              "      <td>2.3</td>\n",
              "      <td>4.02</td>\n",
              "      <td>150.0</td>\n",
              "      <td>2021</td>\n",
              "      <td>...</td>\n",
              "      <td>100</td>\n",
              "      <td>0</td>\n",
              "      <td>100</td>\n",
              "      <td>16.5</td>\n",
              "      <td>28.10</td>\n",
              "      <td>23.4</td>\n",
              "      <td>0.00</td>\n",
              "      <td>2.8</td>\n",
              "      <td>16.86</td>\n",
              "      <td>87.66</td>\n",
              "    </tr>\n",
              "    <tr>\n",
              "      <th>4</th>\n",
              "      <td>4348</td>\n",
              "      <td>RIVER VAMSADHARA, IMMEDIATE BORDER BETWEEN AND...</td>\n",
              "      <td>ANDHRA PRADESH</td>\n",
              "      <td>8.3</td>\n",
              "      <td>8.5</td>\n",
              "      <td>410.0</td>\n",
              "      <td>2.2</td>\n",
              "      <td>2.46</td>\n",
              "      <td>150.0</td>\n",
              "      <td>2021</td>\n",
              "      <td>...</td>\n",
              "      <td>100</td>\n",
              "      <td>0</td>\n",
              "      <td>100</td>\n",
              "      <td>16.5</td>\n",
              "      <td>28.10</td>\n",
              "      <td>23.4</td>\n",
              "      <td>0.00</td>\n",
              "      <td>2.8</td>\n",
              "      <td>16.86</td>\n",
              "      <td>87.66</td>\n",
              "    </tr>\n",
              "    <tr>\n",
              "      <th>...</th>\n",
              "      <td>...</td>\n",
              "      <td>...</td>\n",
              "      <td>...</td>\n",
              "      <td>...</td>\n",
              "      <td>...</td>\n",
              "      <td>...</td>\n",
              "      <td>...</td>\n",
              "      <td>...</td>\n",
              "      <td>...</td>\n",
              "      <td>...</td>\n",
              "      <td>...</td>\n",
              "      <td>...</td>\n",
              "      <td>...</td>\n",
              "      <td>...</td>\n",
              "      <td>...</td>\n",
              "      <td>...</td>\n",
              "      <td>...</td>\n",
              "      <td>...</td>\n",
              "      <td>...</td>\n",
              "      <td>...</td>\n",
              "      <td>...</td>\n",
              "    </tr>\n",
              "    <tr>\n",
              "      <th>3966</th>\n",
              "      <td>1633</td>\n",
              "      <td>SIMSANG RIVER WILLIAMNAGAR, MEGHALAYA</td>\n",
              "      <td>NAN</td>\n",
              "      <td>7.0</td>\n",
              "      <td>7.0</td>\n",
              "      <td>161.0</td>\n",
              "      <td>1.7</td>\n",
              "      <td>2.43</td>\n",
              "      <td>375.0</td>\n",
              "      <td>2007</td>\n",
              "      <td>...</td>\n",
              "      <td>100</td>\n",
              "      <td>60</td>\n",
              "      <td>100</td>\n",
              "      <td>16.5</td>\n",
              "      <td>28.10</td>\n",
              "      <td>23.4</td>\n",
              "      <td>0.54</td>\n",
              "      <td>2.8</td>\n",
              "      <td>16.86</td>\n",
              "      <td>88.20</td>\n",
              "    </tr>\n",
              "    <tr>\n",
              "      <th>3967</th>\n",
              "      <td>1403</td>\n",
              "      <td>GUMTI AT U/S SOUTH TRIPURA, TRIPURA</td>\n",
              "      <td>NAN</td>\n",
              "      <td>5.2</td>\n",
              "      <td>7.4</td>\n",
              "      <td>120.0</td>\n",
              "      <td>1.4</td>\n",
              "      <td>0.05</td>\n",
              "      <td>280.0</td>\n",
              "      <td>2007</td>\n",
              "      <td>...</td>\n",
              "      <td>100</td>\n",
              "      <td>80</td>\n",
              "      <td>100</td>\n",
              "      <td>16.5</td>\n",
              "      <td>22.48</td>\n",
              "      <td>23.4</td>\n",
              "      <td>0.72</td>\n",
              "      <td>2.8</td>\n",
              "      <td>16.86</td>\n",
              "      <td>82.76</td>\n",
              "    </tr>\n",
              "    <tr>\n",
              "      <th>3968</th>\n",
              "      <td>1404</td>\n",
              "      <td>GUMTI AT D/S SOUTH TRIPURA, TRIPURA</td>\n",
              "      <td>NAN</td>\n",
              "      <td>4.7</td>\n",
              "      <td>7.4</td>\n",
              "      <td>139.0</td>\n",
              "      <td>NaN</td>\n",
              "      <td>0.11</td>\n",
              "      <td>440.0</td>\n",
              "      <td>2007</td>\n",
              "      <td>...</td>\n",
              "      <td>0</td>\n",
              "      <td>80</td>\n",
              "      <td>100</td>\n",
              "      <td>16.5</td>\n",
              "      <td>16.86</td>\n",
              "      <td>0.0</td>\n",
              "      <td>0.72</td>\n",
              "      <td>2.8</td>\n",
              "      <td>16.86</td>\n",
              "      <td>53.74</td>\n",
              "    </tr>\n",
              "    <tr>\n",
              "      <th>3969</th>\n",
              "      <td>1726</td>\n",
              "      <td>CHANDRAPUR, AGARTALA D/S OF HAORA RIVER, TRIPURA</td>\n",
              "      <td>NAN</td>\n",
              "      <td>5.4</td>\n",
              "      <td>7.4</td>\n",
              "      <td>128.0</td>\n",
              "      <td>3.0</td>\n",
              "      <td>0.06</td>\n",
              "      <td>565.0</td>\n",
              "      <td>2007</td>\n",
              "      <td>...</td>\n",
              "      <td>100</td>\n",
              "      <td>80</td>\n",
              "      <td>100</td>\n",
              "      <td>16.5</td>\n",
              "      <td>22.48</td>\n",
              "      <td>23.4</td>\n",
              "      <td>0.72</td>\n",
              "      <td>2.8</td>\n",
              "      <td>11.24</td>\n",
              "      <td>77.14</td>\n",
              "    </tr>\n",
              "    <tr>\n",
              "      <th>3970</th>\n",
              "      <td>1927</td>\n",
              "      <td>SEKMAI RIVER, KAKCHING (THOUBAL DIST.)</td>\n",
              "      <td>NAN</td>\n",
              "      <td>6.9</td>\n",
              "      <td>7.2</td>\n",
              "      <td>233.0</td>\n",
              "      <td>1.5</td>\n",
              "      <td>NaN</td>\n",
              "      <td>119.0</td>\n",
              "      <td>2007</td>\n",
              "      <td>...</td>\n",
              "      <td>100</td>\n",
              "      <td>40</td>\n",
              "      <td>0</td>\n",
              "      <td>16.5</td>\n",
              "      <td>28.10</td>\n",
              "      <td>23.4</td>\n",
              "      <td>0.36</td>\n",
              "      <td>0.0</td>\n",
              "      <td>16.86</td>\n",
              "      <td>85.22</td>\n",
              "    </tr>\n",
              "  </tbody>\n",
              "</table>\n",
              "<p>3971 rows × 23 columns</p>\n",
              "</div>"
            ],
            "text/plain": [
              "     station                                           location  \\\n",
              "0       1448  RIVER NAGAVALI AT THOTAPALLI REGULATOR,\\nVIZIA...   \n",
              "1       4351  RIVER NAGAVALI IMMEDIATE BORDER BETWEEN ANDHRA...   \n",
              "2       4346  RIVER NAGAVALI NEAR NH- 16 BRIDGE, UPSTREAM (U...   \n",
              "3       4347  RIVER NAGAVALI NEAR WATER PUMP HOUSE (KILLIPAL...   \n",
              "4       4348  RIVER VAMSADHARA, IMMEDIATE BORDER BETWEEN AND...   \n",
              "...      ...                                                ...   \n",
              "3966    1633              SIMSANG RIVER WILLIAMNAGAR, MEGHALAYA   \n",
              "3967    1403                GUMTI AT U/S SOUTH TRIPURA, TRIPURA   \n",
              "3968    1404                GUMTI AT D/S SOUTH TRIPURA, TRIPURA   \n",
              "3969    1726   CHANDRAPUR, AGARTALA D/S OF HAORA RIVER, TRIPURA   \n",
              "3970    1927             SEKMAI RIVER, KAKCHING (THOUBAL DIST.)   \n",
              "\n",
              "               state   do   ph     co  bod    na     tc  year  ...  nbod  nec  \\\n",
              "0     ANDHRA PRADESH  5.9  8.2  400.0  2.0  1.66   93.0  2021  ...   100    0   \n",
              "1     ANDHRA PRADESH  8.3  8.5  612.0  2.5  3.02  150.0  2021  ...   100    0   \n",
              "2     ANDHRA PRADESH  8.4  8.8  400.0  2.0  3.60  120.0  2021  ...   100    0   \n",
              "3     ANDHRA PRADESH  7.5  8.4  648.0  2.3  4.02  150.0  2021  ...   100    0   \n",
              "4     ANDHRA PRADESH  8.3  8.5  410.0  2.2  2.46  150.0  2021  ...   100    0   \n",
              "...              ...  ...  ...    ...  ...   ...    ...   ...  ...   ...  ...   \n",
              "3966             NAN  7.0  7.0  161.0  1.7  2.43  375.0  2007  ...   100   60   \n",
              "3967             NAN  5.2  7.4  120.0  1.4  0.05  280.0  2007  ...   100   80   \n",
              "3968             NAN  4.7  7.4  139.0  NaN  0.11  440.0  2007  ...     0   80   \n",
              "3969             NAN  5.4  7.4  128.0  3.0  0.06  565.0  2007  ...   100   80   \n",
              "3970             NAN  6.9  7.2  233.0  1.5   NaN  119.0  2007  ...   100   40   \n",
              "\n",
              "      nna   wph    wdo  wbod   wec  wna    wco    wqi  \n",
              "0     100  16.5  22.48  23.4  0.00  2.8  16.86  82.04  \n",
              "1     100  16.5  28.10  23.4  0.00  2.8  16.86  87.66  \n",
              "2     100   9.9  28.10  23.4  0.00  2.8  16.86  81.06  \n",
              "3     100  16.5  28.10  23.4  0.00  2.8  16.86  87.66  \n",
              "4     100  16.5  28.10  23.4  0.00  2.8  16.86  87.66  \n",
              "...   ...   ...    ...   ...   ...  ...    ...    ...  \n",
              "3966  100  16.5  28.10  23.4  0.54  2.8  16.86  88.20  \n",
              "3967  100  16.5  22.48  23.4  0.72  2.8  16.86  82.76  \n",
              "3968  100  16.5  16.86   0.0  0.72  2.8  16.86  53.74  \n",
              "3969  100  16.5  22.48  23.4  0.72  2.8  11.24  77.14  \n",
              "3970    0  16.5  28.10  23.4  0.36  0.0  16.86  85.22  \n",
              "\n",
              "[3971 rows x 23 columns]"
            ]
          },
          "execution_count": 13,
          "metadata": {},
          "output_type": "execute_result"
        }
      ],
      "source": [
        "data['wph']=data.npH * 0.165\n",
        "data['wdo']=data.ndo * 0.281\n",
        "data['wbod']=data.nbod * 0.234\n",
        "data['wec']=data.nec* 0.009\n",
        "data['wna']=data.nna * 0.028\n",
        "data['wco']=data.nco * 0.281\n",
        "data['wqi']=data.wph+data.wdo+data.wbod+data.wec+data.wna+data.wco\n",
        "data"
      ]
    },
    {
      "cell_type": "code",
      "execution_count": null,
      "id": "45a8aeae",
      "metadata": {
        "id": "45a8aeae"
      },
      "outputs": [],
      "source": [
        "#calculation overall wqi for each year\n",
        "ag=data.groupby('year')['wqi'].mean()"
      ]
    },
    {
      "cell_type": "code",
      "execution_count": null,
      "id": "8362007b",
      "metadata": {
        "id": "8362007b",
        "outputId": "3055e7f2-6303-431d-b238-fc20faefd89b"
      },
      "outputs": [
        {
          "data": {
            "text/plain": [
              "year\n",
              "2007    72.549000\n",
              "2008    72.570943\n",
              "2009    74.085193\n",
              "2010    74.648723\n",
              "2011    75.647013\n",
              "Name: wqi, dtype: float64"
            ]
          },
          "execution_count": 15,
          "metadata": {},
          "output_type": "execute_result"
        }
      ],
      "source": [
        "ag.head()"
      ]
    },
    {
      "cell_type": "code",
      "execution_count": null,
      "id": "5697345f",
      "metadata": {
        "id": "5697345f",
        "outputId": "e824a052-f4be-473e-c6ec-b3c164d4c077"
      },
      "outputs": [
        {
          "data": {
            "text/plain": [
              "year\n",
              "2007    72.549000\n",
              "2008    72.570943\n",
              "2009    74.085193\n",
              "2010    74.648723\n",
              "2011    75.647013\n",
              "2012    78.969041\n",
              "2013    75.009425\n",
              "2014    76.853551\n",
              "2015    76.892862\n",
              "2016    76.970838\n",
              "2017    77.262184\n",
              "2018    77.737185\n",
              "2019    78.537772\n",
              "2020    79.339130\n",
              "2021    81.069845\n",
              "Name: wqi, dtype: float64"
            ]
          },
          "execution_count": 16,
          "metadata": {},
          "output_type": "execute_result"
        }
      ],
      "source": [
        "ag"
      ]
    },
    {
      "cell_type": "code",
      "execution_count": null,
      "id": "537834f1",
      "metadata": {
        "id": "537834f1",
        "outputId": "72fd7eb2-21a8-4b5e-bf39-cc8a36d7f769"
      },
      "outputs": [
        {
          "data": {
            "text/html": [
              "<div>\n",
              "<style scoped>\n",
              "    .dataframe tbody tr th:only-of-type {\n",
              "        vertical-align: middle;\n",
              "    }\n",
              "\n",
              "    .dataframe tbody tr th {\n",
              "        vertical-align: top;\n",
              "    }\n",
              "\n",
              "    .dataframe thead th {\n",
              "        text-align: right;\n",
              "    }\n",
              "</style>\n",
              "<table border=\"1\" class=\"dataframe\">\n",
              "  <thead>\n",
              "    <tr style=\"text-align: right;\">\n",
              "      <th></th>\n",
              "      <th>year</th>\n",
              "      <th>wqi</th>\n",
              "    </tr>\n",
              "  </thead>\n",
              "  <tbody>\n",
              "    <tr>\n",
              "      <th>0</th>\n",
              "      <td>2007</td>\n",
              "      <td>72.549000</td>\n",
              "    </tr>\n",
              "    <tr>\n",
              "      <th>1</th>\n",
              "      <td>2008</td>\n",
              "      <td>72.570943</td>\n",
              "    </tr>\n",
              "    <tr>\n",
              "      <th>2</th>\n",
              "      <td>2009</td>\n",
              "      <td>74.085193</td>\n",
              "    </tr>\n",
              "    <tr>\n",
              "      <th>3</th>\n",
              "      <td>2010</td>\n",
              "      <td>74.648723</td>\n",
              "    </tr>\n",
              "    <tr>\n",
              "      <th>4</th>\n",
              "      <td>2011</td>\n",
              "      <td>75.647013</td>\n",
              "    </tr>\n",
              "    <tr>\n",
              "      <th>5</th>\n",
              "      <td>2012</td>\n",
              "      <td>78.969041</td>\n",
              "    </tr>\n",
              "    <tr>\n",
              "      <th>6</th>\n",
              "      <td>2013</td>\n",
              "      <td>75.009425</td>\n",
              "    </tr>\n",
              "    <tr>\n",
              "      <th>7</th>\n",
              "      <td>2014</td>\n",
              "      <td>76.853551</td>\n",
              "    </tr>\n",
              "    <tr>\n",
              "      <th>8</th>\n",
              "      <td>2015</td>\n",
              "      <td>76.892862</td>\n",
              "    </tr>\n",
              "    <tr>\n",
              "      <th>9</th>\n",
              "      <td>2016</td>\n",
              "      <td>76.970838</td>\n",
              "    </tr>\n",
              "    <tr>\n",
              "      <th>10</th>\n",
              "      <td>2017</td>\n",
              "      <td>77.262184</td>\n",
              "    </tr>\n",
              "    <tr>\n",
              "      <th>11</th>\n",
              "      <td>2018</td>\n",
              "      <td>77.737185</td>\n",
              "    </tr>\n",
              "    <tr>\n",
              "      <th>12</th>\n",
              "      <td>2019</td>\n",
              "      <td>78.537772</td>\n",
              "    </tr>\n",
              "    <tr>\n",
              "      <th>13</th>\n",
              "      <td>2020</td>\n",
              "      <td>79.339130</td>\n",
              "    </tr>\n",
              "    <tr>\n",
              "      <th>14</th>\n",
              "      <td>2021</td>\n",
              "      <td>81.069845</td>\n",
              "    </tr>\n",
              "  </tbody>\n",
              "</table>\n",
              "</div>"
            ],
            "text/plain": [
              "    year        wqi\n",
              "0   2007  72.549000\n",
              "1   2008  72.570943\n",
              "2   2009  74.085193\n",
              "3   2010  74.648723\n",
              "4   2011  75.647013\n",
              "5   2012  78.969041\n",
              "6   2013  75.009425\n",
              "7   2014  76.853551\n",
              "8   2015  76.892862\n",
              "9   2016  76.970838\n",
              "10  2017  77.262184\n",
              "11  2018  77.737185\n",
              "12  2019  78.537772\n",
              "13  2020  79.339130\n",
              "14  2021  81.069845"
            ]
          },
          "execution_count": 17,
          "metadata": {},
          "output_type": "execute_result"
        }
      ],
      "source": [
        "data=ag.reset_index(level=0,inplace=False)\n",
        "data"
      ]
    },
    {
      "cell_type": "code",
      "execution_count": null,
      "id": "44736b8f",
      "metadata": {
        "id": "44736b8f",
        "outputId": "4b7fc0fe-6d8b-4c2f-a123-0b03856fb954"
      },
      "outputs": [
        {
          "data": {
            "image/png": "[encoded data removed]",
            "text/plain": [
              "<Figure size 1440x720 with 1 Axes>"
            ]
          },
          "metadata": {
            "needs_background": "light"
          },
          "output_type": "display_data"
        },
        {
          "data": {
            "text/html": [
              "<div>\n",
              "<style scoped>\n",
              "    .dataframe tbody tr th:only-of-type {\n",
              "        vertical-align: middle;\n",
              "    }\n",
              "\n",
              "    .dataframe tbody tr th {\n",
              "        vertical-align: top;\n",
              "    }\n",
              "\n",
              "    .dataframe thead th {\n",
              "        text-align: right;\n",
              "    }\n",
              "</style>\n",
              "<table border=\"1\" class=\"dataframe\">\n",
              "  <thead>\n",
              "    <tr style=\"text-align: right;\">\n",
              "      <th></th>\n",
              "      <th>year</th>\n",
              "      <th>wqi</th>\n",
              "    </tr>\n",
              "  </thead>\n",
              "  <tbody>\n",
              "    <tr>\n",
              "      <th>0</th>\n",
              "      <td>2007</td>\n",
              "      <td>72.549000</td>\n",
              "    </tr>\n",
              "    <tr>\n",
              "      <th>1</th>\n",
              "      <td>2008</td>\n",
              "      <td>72.570943</td>\n",
              "    </tr>\n",
              "    <tr>\n",
              "      <th>2</th>\n",
              "      <td>2009</td>\n",
              "      <td>74.085193</td>\n",
              "    </tr>\n",
              "    <tr>\n",
              "      <th>3</th>\n",
              "      <td>2010</td>\n",
              "      <td>74.648723</td>\n",
              "    </tr>\n",
              "    <tr>\n",
              "      <th>4</th>\n",
              "      <td>2011</td>\n",
              "      <td>75.647013</td>\n",
              "    </tr>\n",
              "    <tr>\n",
              "      <th>5</th>\n",
              "      <td>2012</td>\n",
              "      <td>78.969041</td>\n",
              "    </tr>\n",
              "    <tr>\n",
              "      <th>6</th>\n",
              "      <td>2013</td>\n",
              "      <td>75.009425</td>\n",
              "    </tr>\n",
              "    <tr>\n",
              "      <th>7</th>\n",
              "      <td>2014</td>\n",
              "      <td>76.853551</td>\n",
              "    </tr>\n",
              "    <tr>\n",
              "      <th>8</th>\n",
              "      <td>2015</td>\n",
              "      <td>76.892862</td>\n",
              "    </tr>\n",
              "    <tr>\n",
              "      <th>9</th>\n",
              "      <td>2016</td>\n",
              "      <td>76.970838</td>\n",
              "    </tr>\n",
              "    <tr>\n",
              "      <th>10</th>\n",
              "      <td>2017</td>\n",
              "      <td>77.262184</td>\n",
              "    </tr>\n",
              "    <tr>\n",
              "      <th>11</th>\n",
              "      <td>2018</td>\n",
              "      <td>77.737185</td>\n",
              "    </tr>\n",
              "    <tr>\n",
              "      <th>12</th>\n",
              "      <td>2019</td>\n",
              "      <td>78.537772</td>\n",
              "    </tr>\n",
              "    <tr>\n",
              "      <th>13</th>\n",
              "      <td>2020</td>\n",
              "      <td>79.339130</td>\n",
              "    </tr>\n",
              "    <tr>\n",
              "      <th>14</th>\n",
              "      <td>2021</td>\n",
              "      <td>81.069845</td>\n",
              "    </tr>\n",
              "  </tbody>\n",
              "</table>\n",
              "</div>"
            ],
            "text/plain": [
              "    year        wqi\n",
              "0   2007  72.549000\n",
              "1   2008  72.570943\n",
              "2   2009  74.085193\n",
              "3   2010  74.648723\n",
              "4   2011  75.647013\n",
              "5   2012  78.969041\n",
              "6   2013  75.009425\n",
              "7   2014  76.853551\n",
              "8   2015  76.892862\n",
              "9   2016  76.970838\n",
              "10  2017  77.262184\n",
              "11  2018  77.737185\n",
              "12  2019  78.537772\n",
              "13  2020  79.339130\n",
              "14  2021  81.069845"
            ]
          },
          "execution_count": 18,
          "metadata": {},
          "output_type": "execute_result"
        }
      ],
      "source": [
        "year=data['year'].values\n",
        "AQI=data['wqi'].values\n",
        "data['wqi']=pd.to_numeric(data['wqi'],errors='coerce')\n",
        "data['year']=pd.to_numeric(data['year'],errors='coerce')\n",
        "\n",
        "import matplotlib.pyplot as plt\n",
        "plt.rcParams['figure.figsize'] = (20.0, 10.0)\n",
        "from mpl_toolkits.mplot3d import Axes3D\n",
        "fig = plt.figure()\n",
        "ax = Axes3D(fig)\n",
        "ax.scatter(year,AQI, color='red')\n",
        "plt.show()\n",
        "data"
      ]
    },
    {
      "cell_type": "code",
      "execution_count": null,
      "id": "f3b64edf",
      "metadata": {
        "id": "f3b64edf",
        "outputId": "80c6e608-93c5-4079-cf1c-3791a16a7874"
      },
      "outputs": [
        {
          "data": {
            "text/html": [
              "<div>\n",
              "<style scoped>\n",
              "    .dataframe tbody tr th:only-of-type {\n",
              "        vertical-align: middle;\n",
              "    }\n",
              "\n",
              "    .dataframe tbody tr th {\n",
              "        vertical-align: top;\n",
              "    }\n",
              "\n",
              "    .dataframe thead th {\n",
              "        text-align: right;\n",
              "    }\n",
              "</style>\n",
              "<table border=\"1\" class=\"dataframe\">\n",
              "  <thead>\n",
              "    <tr style=\"text-align: right;\">\n",
              "      <th></th>\n",
              "      <th>year</th>\n",
              "      <th>wqi</th>\n",
              "    </tr>\n",
              "  </thead>\n",
              "  <tbody>\n",
              "    <tr>\n",
              "      <th>0</th>\n",
              "      <td>2007</td>\n",
              "      <td>72.549000</td>\n",
              "    </tr>\n",
              "    <tr>\n",
              "      <th>1</th>\n",
              "      <td>2008</td>\n",
              "      <td>72.570943</td>\n",
              "    </tr>\n",
              "    <tr>\n",
              "      <th>2</th>\n",
              "      <td>2009</td>\n",
              "      <td>74.085193</td>\n",
              "    </tr>\n",
              "    <tr>\n",
              "      <th>3</th>\n",
              "      <td>2010</td>\n",
              "      <td>74.648723</td>\n",
              "    </tr>\n",
              "    <tr>\n",
              "      <th>4</th>\n",
              "      <td>2011</td>\n",
              "      <td>75.647013</td>\n",
              "    </tr>\n",
              "  </tbody>\n",
              "</table>\n",
              "</div>"
            ],
            "text/plain": [
              "   year        wqi\n",
              "0  2007  72.549000\n",
              "1  2008  72.570943\n",
              "2  2009  74.085193\n",
              "3  2010  74.648723\n",
              "4  2011  75.647013"
            ]
          },
          "execution_count": 19,
          "metadata": {},
          "output_type": "execute_result"
        }
      ],
      "source": [
        "data = data[np.isfinite(data['wqi'])]\n",
        "data.head()"
      ]
    },
    {
      "cell_type": "code",
      "execution_count": null,
      "id": "ae923f9d",
      "metadata": {
        "id": "ae923f9d",
        "outputId": "11f3bcfb-e7dc-4cba-89bd-a136a8387c0f"
      },
      "outputs": [
        {
          "data": {
            "image/png": "[encoded data removed]",
            "text/plain": [
              "<Figure size 1440x720 with 1 Axes>"
            ]
          },
          "metadata": {
            "needs_background": "light"
          },
          "output_type": "display_data"
        }
      ],
      "source": [
        "#scatter plot of data points\n",
        "cols =['year']\n",
        "y = data['wqi']\n",
        "x=data[cols]\n",
        "\n",
        "plt.scatter(x,y)\n",
        "plt.show()"
      ]
    },
    {
      "cell_type": "code",
      "execution_count": null,
      "id": "bafbdc85",
      "metadata": {
        "id": "bafbdc85",
        "outputId": "a0541960-4520-47f6-ce73-deb851605fc6"
      },
      "outputs": [
        {
          "data": {
            "image/png": "[encoded data removed]",
            "text/plain": [
              "<Figure size 1080x432 with 1 Axes>"
            ]
          },
          "metadata": {
            "needs_background": "light"
          },
          "output_type": "display_data"
        }
      ],
      "source": [
        "import matplotlib.pyplot as plt\n",
        "data=data.set_index('year')\n",
        "data.plot(figsize=(15,6))\n",
        "plt.show()"
      ]
    },
    {
      "cell_type": "code",
      "execution_count": null,
      "id": "e5ad47e5",
      "metadata": {
        "id": "e5ad47e5",
        "outputId": "d4115f56-6666-4cd2-ce11-ed16a679fd27"
      },
      "outputs": [
        {
          "data": {
            "text/html": [
              "<div>\n",
              "<style scoped>\n",
              "    .dataframe tbody tr th:only-of-type {\n",
              "        vertical-align: middle;\n",
              "    }\n",
              "\n",
              "    .dataframe tbody tr th {\n",
              "        vertical-align: top;\n",
              "    }\n",
              "\n",
              "    .dataframe thead th {\n",
              "        text-align: right;\n",
              "    }\n",
              "</style>\n",
              "<table border=\"1\" class=\"dataframe\">\n",
              "  <thead>\n",
              "    <tr style=\"text-align: right;\">\n",
              "      <th></th>\n",
              "      <th>year</th>\n",
              "      <th>wqi</th>\n",
              "    </tr>\n",
              "  </thead>\n",
              "  <tbody>\n",
              "    <tr>\n",
              "      <th>0</th>\n",
              "      <td>2007</td>\n",
              "      <td>72.549000</td>\n",
              "    </tr>\n",
              "    <tr>\n",
              "      <th>1</th>\n",
              "      <td>2008</td>\n",
              "      <td>72.570943</td>\n",
              "    </tr>\n",
              "    <tr>\n",
              "      <th>2</th>\n",
              "      <td>2009</td>\n",
              "      <td>74.085193</td>\n",
              "    </tr>\n",
              "    <tr>\n",
              "      <th>3</th>\n",
              "      <td>2010</td>\n",
              "      <td>74.648723</td>\n",
              "    </tr>\n",
              "    <tr>\n",
              "      <th>4</th>\n",
              "      <td>2011</td>\n",
              "      <td>75.647013</td>\n",
              "    </tr>\n",
              "    <tr>\n",
              "      <th>5</th>\n",
              "      <td>2012</td>\n",
              "      <td>78.969041</td>\n",
              "    </tr>\n",
              "    <tr>\n",
              "      <th>6</th>\n",
              "      <td>2013</td>\n",
              "      <td>75.009425</td>\n",
              "    </tr>\n",
              "    <tr>\n",
              "      <th>7</th>\n",
              "      <td>2014</td>\n",
              "      <td>76.853551</td>\n",
              "    </tr>\n",
              "    <tr>\n",
              "      <th>8</th>\n",
              "      <td>2015</td>\n",
              "      <td>76.892862</td>\n",
              "    </tr>\n",
              "    <tr>\n",
              "      <th>9</th>\n",
              "      <td>2016</td>\n",
              "      <td>76.970838</td>\n",
              "    </tr>\n",
              "    <tr>\n",
              "      <th>10</th>\n",
              "      <td>2017</td>\n",
              "      <td>77.262184</td>\n",
              "    </tr>\n",
              "    <tr>\n",
              "      <th>11</th>\n",
              "      <td>2018</td>\n",
              "      <td>77.737185</td>\n",
              "    </tr>\n",
              "    <tr>\n",
              "      <th>12</th>\n",
              "      <td>2019</td>\n",
              "      <td>78.537772</td>\n",
              "    </tr>\n",
              "    <tr>\n",
              "      <th>13</th>\n",
              "      <td>2020</td>\n",
              "      <td>79.339130</td>\n",
              "    </tr>\n",
              "    <tr>\n",
              "      <th>14</th>\n",
              "      <td>2021</td>\n",
              "      <td>81.069845</td>\n",
              "    </tr>\n",
              "  </tbody>\n",
              "</table>\n",
              "</div>"
            ],
            "text/plain": [
              "    year        wqi\n",
              "0   2007  72.549000\n",
              "1   2008  72.570943\n",
              "2   2009  74.085193\n",
              "3   2010  74.648723\n",
              "4   2011  75.647013\n",
              "5   2012  78.969041\n",
              "6   2013  75.009425\n",
              "7   2014  76.853551\n",
              "8   2015  76.892862\n",
              "9   2016  76.970838\n",
              "10  2017  77.262184\n",
              "11  2018  77.737185\n",
              "12  2019  78.537772\n",
              "13  2020  79.339130\n",
              "14  2021  81.069845"
            ]
          },
          "execution_count": 22,
          "metadata": {},
          "output_type": "execute_result"
        }
      ],
      "source": [
        "data=data.reset_index(level=0,inplace=False)\n",
        "data"
      ]
    },
    {
      "cell_type": "code",
      "execution_count": null,
      "id": "afc10089",
      "metadata": {
        "id": "afc10089"
      },
      "outputs": [],
      "source": [
        "results=[]\n",
        "names=[]\n",
        "errors=[]"
      ]
    },
    {
      "cell_type": "code",
      "execution_count": null,
      "id": "bdd55668",
      "metadata": {
        "id": "bdd55668",
        "outputId": "7e554bb4-46d5-4d76-ac23-3905a31f3067"
      },
      "outputs": [
        {
          "data": {
            "text/plain": [
              "LinearRegression()"
            ]
          },
          "execution_count": 24,
          "metadata": {},
          "output_type": "execute_result"
        }
      ],
      "source": [
        "from sklearn import linear_model\n",
        "from sklearn.model_selection import train_test_split\n",
        "x=data[['year']]\n",
        "y = data['wqi']\n",
        "reg=linear_model.LinearRegression()\n",
        "x_train,x_test,y_train,y_test=train_test_split(x,y,test_size=0.2,random_state=4)\n",
        "reg.fit(x_train,y_train)"
      ]
    },
    {
      "cell_type": "code",
      "execution_count": null,
      "id": "08e906da",
      "metadata": {
        "id": "08e906da",
        "outputId": "02019bc9-2115-4b91-eeee-1696373a8d1f"
      },
      "outputs": [
        {
          "name": "stdout",
          "output_type": "stream",
          "text": [
            "12    78.537772\n",
            "0     72.549000\n",
            "6     75.009425\n",
            "Name: wqi, dtype: float64\n",
            "[79.09898275 73.38502858 76.24200566]\n"
          ]
        }
      ],
      "source": [
        "x_pred=reg.predict(x_test)\n",
        "print(y_test)\n",
        "print(x_pred)\n",
        "linear_reg=pd.DataFrame()\n",
        "linear_reg['Actual']=np.array(y_test)\n",
        "linear_reg['Predicted']=x_pred"
      ]
    },
    {
      "cell_type": "code",
      "execution_count": null,
      "id": "d1d2986b",
      "metadata": {
        "id": "d1d2986b",
        "outputId": "00dc5787-2725-473d-b499-0ab98615f07c"
      },
      "outputs": [
        {
          "data": {
            "text/html": [
              "<div>\n",
              "<style scoped>\n",
              "    .dataframe tbody tr th:only-of-type {\n",
              "        vertical-align: middle;\n",
              "    }\n",
              "\n",
              "    .dataframe tbody tr th {\n",
              "        vertical-align: top;\n",
              "    }\n",
              "\n",
              "    .dataframe thead th {\n",
              "        text-align: right;\n",
              "    }\n",
              "</style>\n",
              "<table border=\"1\" class=\"dataframe\">\n",
              "  <thead>\n",
              "    <tr style=\"text-align: right;\">\n",
              "      <th></th>\n",
              "      <th>Actual</th>\n",
              "      <th>Predicted</th>\n",
              "    </tr>\n",
              "  </thead>\n",
              "  <tbody>\n",
              "    <tr>\n",
              "      <th>0</th>\n",
              "      <td>78.537772</td>\n",
              "      <td>79.098983</td>\n",
              "    </tr>\n",
              "    <tr>\n",
              "      <th>1</th>\n",
              "      <td>72.549000</td>\n",
              "      <td>73.385029</td>\n",
              "    </tr>\n",
              "    <tr>\n",
              "      <th>2</th>\n",
              "      <td>75.009425</td>\n",
              "      <td>76.242006</td>\n",
              "    </tr>\n",
              "  </tbody>\n",
              "</table>\n",
              "</div>"
            ],
            "text/plain": [
              "      Actual  Predicted\n",
              "0  78.537772  79.098983\n",
              "1  72.549000  73.385029\n",
              "2  75.009425  76.242006"
            ]
          },
          "execution_count": 26,
          "metadata": {},
          "output_type": "execute_result"
        }
      ],
      "source": [
        "linear_reg"
      ]
    },
    {
      "cell_type": "code",
      "execution_count": null,
      "id": "53d06539",
      "metadata": {
        "id": "53d06539",
        "outputId": "7a67e8be-d7c4-44f5-e967-77c919da0254"
      },
      "outputs": [
        {
          "name": "stdout",
          "output_type": "stream",
          "text": [
            "mse:0.8444\n",
            "R2 score = 0.84\n"
          ]
        }
      ],
      "source": [
        "import sklearn.metrics as sm\n",
        "print('mse:%.4f'%sm.mean_squared_error(x_pred,y_test))\n",
        "print(\"R2 score =\", round(sm.r2_score(x_pred,y_test), 2))"
      ]
    },
    {
      "cell_type": "code",
      "execution_count": null,
      "id": "a2d29bbf",
      "metadata": {
        "id": "a2d29bbf"
      },
      "outputs": [],
      "source": [
        "names.append('Linear Regression')\n",
        "results.append(sm.r2_score(x_pred,y_test))\n",
        "errors.append(sm.mean_squared_error(x_pred,y_test))"
      ]
    },
    {
      "cell_type": "code",
      "execution_count": null,
      "id": "1f08814d",
      "metadata": {
        "id": "1f08814d",
        "outputId": "4a980070-7681-4370-e9e6-9f2e2977635b"
      },
      "outputs": [
        {
          "data": {
            "image/png": "[encoded data removed]",
            "text/plain": [
              "<Figure size 1440x720 with 1 Axes>"
            ]
          },
          "metadata": {
            "needs_background": "light"
          },
          "output_type": "display_data"
        }
      ],
      "source": [
        "#plotting the actual and predicted results\n",
        "x_axis=x\n",
        "y_axis=y\n",
        "y1_axis=reg.predict(x)\n",
        "plt.scatter(x_axis,y_axis)\n",
        "plt.plot(x_axis,y1_axis,color='r')\n",
        "plt.title(\"linear regression\")\n",
        "\n",
        "plt.show()"
      ]
    },
    {
      "cell_type": "code",
      "execution_count": null,
      "id": "4b177c93",
      "metadata": {
        "id": "4b177c93"
      },
      "outputs": [],
      "source": [
        "from sklearn import linear_model\n",
        "from sklearn.model_selection import train_test_split\n",
        "x=data[['year']]\n",
        "y = data['wqi']\n",
        "reg=linear_model.LinearRegression()\n",
        "x_train,x_test,y_train,y_test=train_test_split(x,y,test_size=0.2,random_state=4)"
      ]
    },
    {
      "cell_type": "code",
      "execution_count": null,
      "id": "8b05c79f",
      "metadata": {
        "id": "8b05c79f",
        "outputId": "1343f37c-85ea-4c09-d5e5-7592dfdcc517"
      },
      "outputs": [
        {
          "data": {
            "text/plain": [
              "LinearRegression()"
            ]
          },
          "execution_count": 79,
          "metadata": {},
          "output_type": "execute_result"
        }
      ],
      "source": [
        "from sklearn.preprocessing import PolynomialFeatures\n",
        "poly_reg= PolynomialFeatures(degree = 2)\n",
        "x_poly = poly_reg.fit_transform(x_train)\n",
        "reg.fit(x_poly,y_train)"
      ]
    },
    {
      "cell_type": "code",
      "execution_count": null,
      "id": "eef524e8",
      "metadata": {
        "id": "eef524e8"
      },
      "outputs": [],
      "source": [
        "y_pred_pr = reg.predict(poly_reg.fit_transform(x_test))"
      ]
    },
    {
      "cell_type": "code",
      "execution_count": null,
      "id": "a3fda0e4",
      "metadata": {
        "id": "a3fda0e4",
        "outputId": "4db431f8-2329-42c6-bd9e-861e35d1100b"
      },
      "outputs": [
        {
          "data": {
            "text/plain": [
              "PolynomialFeatures()"
            ]
          },
          "execution_count": 81,
          "metadata": {},
          "output_type": "execute_result"
        }
      ],
      "source": [
        "poly_reg"
      ]
    },
    {
      "cell_type": "code",
      "execution_count": null,
      "id": "ea70f5ae",
      "metadata": {
        "id": "ea70f5ae",
        "outputId": "74f5f8f9-3432-4456-e43c-0915ad1790c8"
      },
      "outputs": [
        {
          "name": "stdout",
          "output_type": "stream",
          "text": [
            "mse:0.80\n",
            "R2 score = 0.87\n"
          ]
        }
      ],
      "source": [
        "import sklearn.metrics as sm\n",
        "print('mse:%.2f'%sm.mean_squared_error(y_pred_pr,y_test))\n",
        "print(\"R2 score =\", round(sm.r2_score(y_pred_pr,y_test), 2))"
      ]
    },
    {
      "cell_type": "code",
      "execution_count": null,
      "id": "ee9be1d0",
      "metadata": {
        "id": "ee9be1d0"
      },
      "outputs": [],
      "source": [
        "names.append('Polynomial Regression')\n",
        "results.append(sm.r2_score(y_pred_pr,y_test))\n",
        "errors.append(sm.mean_squared_error(y_pred_pr,y_test))"
      ]
    },
    {
      "cell_type": "code",
      "execution_count": null,
      "id": "2df11e12",
      "metadata": {
        "id": "2df11e12",
        "outputId": "28635a2c-9c66-4e98-f0b0-279e5bb7ad7b"
      },
      "outputs": [
        {
          "data": {
            "image/png": "[encoded data removed]",
            "text/plain": [
              "<Figure size 1440x720 with 1 Axes>"
            ]
          },
          "metadata": {
            "needs_background": "light"
          },
          "output_type": "display_data"
        }
      ],
      "source": [
        "x_axis=x\n",
        "y_axis=y\n",
        "y1_axis=reg.predict(poly_reg.fit_transform(x))\n",
        "plt.scatter(x_axis,y_axis)\n",
        "plt.plot(x_axis,y1_axis,color='r')\n",
        "plt.title(\"Polynomial regression\")\n",
        "plt.show()"
      ]
    },
    {
      "cell_type": "code",
      "execution_count": null,
      "id": "93f67300",
      "metadata": {
        "id": "93f67300"
      },
      "outputs": [],
      "source": [
        "x_svr=data.iloc[:,0].values\n",
        "y_svr=data.iloc[:,1].values"
      ]
    },
    {
      "cell_type": "code",
      "execution_count": null,
      "id": "b82b90f9",
      "metadata": {
        "id": "b82b90f9"
      },
      "outputs": [],
      "source": [
        "from sklearn.svm import SVR\n",
        "from sklearn.preprocessing import StandardScaler"
      ]
    },
    {
      "cell_type": "code",
      "execution_count": null,
      "id": "1a372850",
      "metadata": {
        "id": "1a372850"
      },
      "outputs": [],
      "source": [
        "scaled_X = StandardScaler()\n",
        "scaled_y = StandardScaler()\n",
        "\n",
        "scaled_x = scaled_X.fit_transform(x_svr.reshape(-1,1))\n",
        "scaled_y = scaled_y.fit_transform(y_svr.reshape(-1,1))"
      ]
    },
    {
      "cell_type": "code",
      "execution_count": null,
      "id": "ea3d6d87",
      "metadata": {
        "id": "ea3d6d87"
      },
      "outputs": [],
      "source": [
        "x_train,x_test,y_train,y_test=train_test_split(x_svr,y_svr,test_size=0.20,random_state=0)"
      ]
    },
    {
      "cell_type": "code",
      "execution_count": null,
      "id": "3cd18e18",
      "metadata": {
        "id": "3cd18e18",
        "outputId": "75f07034-d501-4bfb-b64b-ac65c762c4c6"
      },
      "outputs": [
        {
          "data": {
            "text/plain": [
              "SVR(gamma='auto', kernel='linear')"
            ]
          },
          "execution_count": 41,
          "metadata": {},
          "output_type": "execute_result"
        }
      ],
      "source": [
        "svr_regressor = SVR(kernel='linear', gamma='auto')\n",
        "svr_regressor.fit(x_train.reshape(-1,1), y_train.ravel())"
      ]
    },
    {
      "cell_type": "code",
      "execution_count": null,
      "id": "b1b1ead8",
      "metadata": {
        "id": "b1b1ead8",
        "outputId": "08308dc5-1d93-4e96-b292-06f4fea4d762"
      },
      "outputs": [
        {
          "name": "stdout",
          "output_type": "stream",
          "text": [
            "[72.5709434  75.00942529 76.89286195]\n",
            "[73.610642   75.95584551 76.89392692]\n"
          ]
        }
      ],
      "source": [
        "y_pred=svr_regressor.predict(x_test.reshape(-1,1))\n",
        "print(y_test)\n",
        "print(y_pred)\n",
        "svr=pd.DataFrame()\n",
        "svr['Actual']=np.array(y_test)\n",
        "svr['Predicted']=y_pred"
      ]
    },
    {
      "cell_type": "code",
      "execution_count": null,
      "id": "ce84bc3a",
      "metadata": {
        "id": "ce84bc3a",
        "outputId": "7e2a7e34-a333-4959-d086-5dd32ade771a"
      },
      "outputs": [
        {
          "name": "stdout",
          "output_type": "stream",
          "text": [
            "mse:0.6589\n",
            "R2 score = 0.65\n"
          ]
        }
      ],
      "source": [
        "import sklearn.metrics as sm\n",
        "print('mse:%.4f'%sm.mean_squared_error(y_pred,y_test.ravel()))\n",
        "print(\"R2 score =\", round(sm.r2_score(y_pred,y_test),2))"
      ]
    },
    {
      "cell_type": "code",
      "execution_count": null,
      "id": "14c6f425",
      "metadata": {
        "id": "14c6f425"
      },
      "outputs": [],
      "source": [
        "names.append('Support vector Regression')\n",
        "results.append(sm.r2_score(y_pred,y_test.ravel()))\n",
        "errors.append(sm.mean_squared_error(y_pred,y_test))"
      ]
    },
    {
      "cell_type": "code",
      "execution_count": null,
      "id": "f78d9e4e",
      "metadata": {
        "id": "f78d9e4e",
        "outputId": "15d2c368-d5e8-4283-e4cc-ab0e097c3905"
      },
      "outputs": [
        {
          "data": {
            "image/png": "[encoded data removed]",
            "text/plain": [
              "<Figure size 1440x720 with 1 Axes>"
            ]
          },
          "metadata": {
            "needs_background": "light"
          },
          "output_type": "display_data"
        }
      ],
      "source": [
        "plt.scatter(x_svr, y_svr, color='teal', edgecolors='black', label='Train')\n",
        "plt.plot(x_svr, svr_regressor.predict(x_svr.reshape(-1,1)), color='orange', label='SVR')\n",
        "plt.title('Simple Vector Regression')\n",
        "plt.legend()\n",
        "plt.show()"
      ]
    },
    {
      "cell_type": "code",
      "execution_count": null,
      "id": "1685c98f",
      "metadata": {
        "id": "1685c98f"
      },
      "outputs": [],
      "source": [
        "x_r=data.iloc[:,0].values\n",
        "y_r=data.iloc[:,1].values"
      ]
    },
    {
      "cell_type": "code",
      "execution_count": null,
      "id": "c31bdb63",
      "metadata": {
        "id": "c31bdb63"
      },
      "outputs": [],
      "source": [
        "x_train,x_test,y_train,y_test=train_test_split(x_r,y_r,test_size=0.2,random_state=4)"
      ]
    },
    {
      "cell_type": "code",
      "execution_count": null,
      "id": "16887520",
      "metadata": {
        "id": "16887520",
        "outputId": "d01123c1-54e8-4861-f6fa-0eeca026fd8c"
      },
      "outputs": [
        {
          "data": {
            "text/plain": [
              "RidgeCV(alphas=array([ 0.1,  1. , 10. ]))"
            ]
          },
          "execution_count": 48,
          "metadata": {},
          "output_type": "execute_result"
        }
      ],
      "source": [
        "from sklearn.linear_model import RidgeCV\n",
        "ridge = RidgeCV()\n",
        "ridge.fit(x_train.reshape(-1,1), y_train.ravel())"
      ]
    },
    {
      "cell_type": "code",
      "execution_count": null,
      "id": "5a62b899",
      "metadata": {
        "id": "5a62b899",
        "outputId": "31865059-9673-483a-b5ba-9a5528957303"
      },
      "outputs": [
        {
          "name": "stdout",
          "output_type": "stream",
          "text": [
            "[78.53777202 72.549      75.00942529]\n",
            "[79.09787593 73.38671793 76.24229693]\n"
          ]
        }
      ],
      "source": [
        "y_pred=ridge.predict(x_test.reshape(-1,1))\n",
        "print(y_test)\n",
        "print(y_pred)"
      ]
    },
    {
      "cell_type": "code",
      "execution_count": null,
      "id": "85e6326e",
      "metadata": {
        "id": "85e6326e",
        "outputId": "3f31b3b2-eac1-4f04-f06c-488c24e0c1ba"
      },
      "outputs": [
        {
          "name": "stdout",
          "output_type": "stream",
          "text": [
            "mse:0.8452\n",
            "R2 score = 0.84\n"
          ]
        }
      ],
      "source": [
        "import sklearn.metrics as sm\n",
        "print('mse:%.4f'%sm.mean_squared_error(y_pred,y_test.ravel()))\n",
        "print(\"R2 score =\", round(sm.r2_score(y_pred,y_test),2))"
      ]
    },
    {
      "cell_type": "code",
      "execution_count": null,
      "id": "4a4fee70",
      "metadata": {
        "id": "4a4fee70"
      },
      "outputs": [],
      "source": [
        "names.append('Ridge Regression')\n",
        "results.append(sm.r2_score(y_pred,y_test))\n",
        "errors.append(sm.mean_squared_error(y_pred,y_test))"
      ]
    },
    {
      "cell_type": "code",
      "execution_count": null,
      "id": "376b5904",
      "metadata": {
        "id": "376b5904",
        "outputId": "e674d32f-72f3-4ece-abc5-ea37674b912b"
      },
      "outputs": [
        {
          "data": {
            "image/png": "[encoded data removed]",
            "text/plain": [
              "<Figure size 1440x720 with 1 Axes>"
            ]
          },
          "metadata": {
            "needs_background": "light"
          },
          "output_type": "display_data"
        }
      ],
      "source": [
        "plt.scatter(x_r, y_r, color='teal', edgecolors='black', label='Actual observation points')\n",
        "plt.plot(x_r, ridge.predict(x_r.reshape(-1,1)), color='orange', label='Ridge regressor')\n",
        "plt.title('Ridge Regression')\n",
        "plt.legend()\n",
        "plt.show()"
      ]
    },
    {
      "cell_type": "code",
      "execution_count": null,
      "id": "18c03bd3",
      "metadata": {
        "id": "18c03bd3"
      },
      "outputs": [],
      "source": [
        "x_l=data.iloc[:,0].values\n",
        "y_l=data.iloc[:,1].values"
      ]
    },
    {
      "cell_type": "code",
      "execution_count": null,
      "id": "7c82d1b9",
      "metadata": {
        "id": "7c82d1b9"
      },
      "outputs": [],
      "source": [
        "x_train,x_test,y_train,y_test=train_test_split(x_l,y_l,test_size=0.2,random_state=4)"
      ]
    },
    {
      "cell_type": "code",
      "execution_count": null,
      "id": "cb3283a1",
      "metadata": {
        "id": "cb3283a1",
        "outputId": "6623e5ce-1064-4420-e607-050da1271c2b"
      },
      "outputs": [
        {
          "data": {
            "text/plain": [
              "LassoCV()"
            ]
          },
          "execution_count": 55,
          "metadata": {},
          "output_type": "execute_result"
        }
      ],
      "source": [
        "from sklearn.linear_model import LassoCV\n",
        "lasso = LassoCV()\n",
        "lasso.fit(x_train.reshape(-1,1), y_train.ravel())"
      ]
    },
    {
      "cell_type": "code",
      "execution_count": null,
      "id": "1786f611",
      "metadata": {
        "id": "1786f611",
        "outputId": "def531d8-c979-43bd-bc00-c26741f39adc"
      },
      "outputs": [
        {
          "name": "stdout",
          "output_type": "stream",
          "text": [
            "[78.53777202 72.549      75.00942529]\n",
            "[79.0646058  73.43749865 76.25105223]\n"
          ]
        }
      ],
      "source": [
        "y_pred=lasso.predict(x_test.reshape(-1,1))\n",
        "print(y_test)\n",
        "print(y_pred)"
      ]
    },
    {
      "cell_type": "code",
      "execution_count": null,
      "id": "16de94e1",
      "metadata": {
        "id": "16de94e1",
        "outputId": "d8453497-8f44-4445-c1a7-60b73c5835b5"
      },
      "outputs": [
        {
          "name": "stdout",
          "output_type": "stream",
          "text": [
            "mse:0.8695\n",
            "R2 score = 0.84\n"
          ]
        }
      ],
      "source": [
        "import sklearn.metrics as sm\n",
        "print('mse:%.4f'%sm.mean_squared_error(y_pred,y_test.ravel()))\n",
        "print(\"R2 score =\", round(sm.r2_score(y_pred,y_test),2))"
      ]
    },
    {
      "cell_type": "code",
      "execution_count": null,
      "id": "eb736745",
      "metadata": {
        "id": "eb736745"
      },
      "outputs": [],
      "source": [
        "names.append('Lasso Regression')\n",
        "results.append(sm.r2_score(y_pred,y_test))\n",
        "errors.append(sm.mean_squared_error(y_pred,y_test))"
      ]
    },
    {
      "cell_type": "code",
      "execution_count": null,
      "id": "559d3d7d",
      "metadata": {
        "id": "559d3d7d",
        "outputId": "ed955138-e532-4e38-9454-b7e21e0e654f"
      },
      "outputs": [
        {
          "data": {
            "image/png": "[encoded data removed]",
            "text/plain": [
              "<Figure size 1440x720 with 1 Axes>"
            ]
          },
          "metadata": {
            "needs_background": "light"
          },
          "output_type": "display_data"
        }
      ],
      "source": [
        "plt.scatter(x_l, y_l, color='teal', edgecolors='black', label='Actual observation points')\n",
        "plt.plot(x_l, lasso.predict(x_l.reshape(-1,1)), color='orange', label='LASSO regressor')\n",
        "plt.title('LASSO Regression')\n",
        "plt.legend()\n",
        "plt.show()"
      ]
    },
    {
      "cell_type": "code",
      "execution_count": null,
      "id": "ee5e3211",
      "metadata": {
        "id": "ee5e3211"
      },
      "outputs": [],
      "source": [
        "x_en=data.iloc[:,0].values\n",
        "y_en=data.iloc[:,1].values"
      ]
    },
    {
      "cell_type": "code",
      "execution_count": null,
      "id": "286a782e",
      "metadata": {
        "id": "286a782e"
      },
      "outputs": [],
      "source": [
        "x_train,x_test,y_train,y_test=train_test_split(x_en,y_en,test_size=0.2,random_state=42)"
      ]
    },
    {
      "cell_type": "code",
      "execution_count": null,
      "id": "29c7ee61",
      "metadata": {
        "id": "29c7ee61",
        "outputId": "08f49942-0795-437d-fea7-25bf5cf0637f"
      },
      "outputs": [
        {
          "data": {
            "text/plain": [
              "ElasticNetCV(cv=3)"
            ]
          },
          "execution_count": 63,
          "metadata": {},
          "output_type": "execute_result"
        }
      ],
      "source": [
        "from sklearn.linear_model import ElasticNetCV\n",
        "elasticNet = ElasticNetCV(cv=3)  #l1_ratio=0.6\n",
        "elasticNet.fit(x_train.reshape(-1,1), y_train.ravel())"
      ]
    },
    {
      "cell_type": "code",
      "execution_count": null,
      "id": "44aac381",
      "metadata": {
        "id": "44aac381",
        "outputId": "8c09962d-e013-4356-9376-cf330efb2ba4"
      },
      "outputs": [
        {
          "name": "stdout",
          "output_type": "stream",
          "text": [
            "[77.68247949 78.66544204 73.25914799]\n",
            "[76.97083832 77.73718519 72.549     ]\n"
          ]
        }
      ],
      "source": [
        "y_pen=elasticNet.predict(x_test.reshape(-1,1))\n",
        "print(y_pen)\n",
        "print(y_test)"
      ]
    },
    {
      "cell_type": "code",
      "execution_count": null,
      "id": "b60f4902",
      "metadata": {
        "id": "b60f4902",
        "outputId": "8a9ad40a-cb9c-4ba5-c73f-0bbf5514dadd"
      },
      "outputs": [
        {
          "name": "stdout",
          "output_type": "stream",
          "text": [
            "mse:0.62\n",
            "R2 score = 0.89\n"
          ]
        }
      ],
      "source": [
        "import sklearn.metrics as sm\n",
        "print('mse:%.2f'%sm.mean_squared_error(y_pen,y_test.ravel()))\n",
        "print(\"R2 score =\", round(sm.r2_score(y_pen,y_test),2))"
      ]
    },
    {
      "cell_type": "code",
      "execution_count": null,
      "id": "df1203d6",
      "metadata": {
        "id": "df1203d6"
      },
      "outputs": [],
      "source": [
        "names.append('Elastic Net Regression')\n",
        "results.append(sm.r2_score(y_pen,y_test))\n",
        "errors.append(sm.mean_squared_error(y_pen,y_test))"
      ]
    },
    {
      "cell_type": "code",
      "execution_count": null,
      "id": "6874637d",
      "metadata": {
        "id": "6874637d",
        "outputId": "2dd1914c-5ae9-48b0-bfe9-3bb4967df021"
      },
      "outputs": [
        {
          "data": {
            "image/png": "[encoded data removed]",
            "text/plain": [
              "<Figure size 1440x720 with 1 Axes>"
            ]
          },
          "metadata": {
            "needs_background": "light"
          },
          "output_type": "display_data"
        }
      ],
      "source": [
        "plt.scatter(x_en, y_en, color='teal', edgecolors='black', label='Train')\n",
        "plt.plot(x_en, elasticNet.predict(x_en.reshape(-1,1)), color='orange',label='ElasticNet regressor')\n",
        "plt.title('ElasticNet Regression')\n",
        "plt.legend()\n",
        "plt.show()"
      ]
    },
    {
      "cell_type": "code",
      "execution_count": null,
      "id": "c1d3a67a",
      "metadata": {
        "id": "c1d3a67a",
        "outputId": "83fdd7da-1c5f-401a-8a38-890b820274af"
      },
      "outputs": [
        {
          "data": {
            "image/png": "[encoded data removed]",
            "text/plain": [
              "<Figure size 1440x720 with 1 Axes>"
            ]
          },
          "metadata": {
            "needs_background": "light"
          },
          "output_type": "display_data"
        }
      ],
      "source": [
        "plt.barh(names, results)\n",
        "plt.ylabel(\"Model\")\n",
        "plt.xlabel(\"R2 Score\")\n",
        "plt.title(\"Model vs R2 score\")\n",
        "plt.show()"
      ]
    },
    {
      "cell_type": "code",
      "execution_count": null,
      "id": "1f1d1674",
      "metadata": {
        "id": "1f1d1674",
        "outputId": "c372bf61-4fbe-4c03-e975-0735a062f902"
      },
      "outputs": [
        {
          "data": {
            "image/png": "[encoded data removed]",
            "text/plain": [
              "<Figure size 1440x720 with 1 Axes>"
            ]
          },
          "metadata": {
            "needs_background": "light"
          },
          "output_type": "display_data"
        }
      ],
      "source": [
        "plt.barh(names, errors)\n",
        "plt.ylabel(\"Model\")\n",
        "plt.xlabel(\"MSE\")\n",
        "plt.title(\"Model vs MSE\")\n",
        "plt.show()"
      ]
    },
    {
      "cell_type": "code",
      "execution_count": null,
      "id": "fa502618",
      "metadata": {
        "id": "fa502618"
      },
      "outputs": [],
      "source": [
        "Results=pd.DataFrame()\n",
        "Results['Model']=names\n",
        "Results['R2 Score']=results\n",
        "Results['Mean squared error']=errors"
      ]
    },
    {
      "cell_type": "code",
      "execution_count": null,
      "id": "0a1bba8e",
      "metadata": {
        "id": "0a1bba8e",
        "outputId": "f044da4e-2555-4f28-dd01-07fe2c1ea4b6"
      },
      "outputs": [
        {
          "data": {
            "text/html": [
              "<div>\n",
              "<style scoped>\n",
              "    .dataframe tbody tr th:only-of-type {\n",
              "        vertical-align: middle;\n",
              "    }\n",
              "\n",
              "    .dataframe tbody tr th {\n",
              "        vertical-align: top;\n",
              "    }\n",
              "\n",
              "    .dataframe thead th {\n",
              "        text-align: right;\n",
              "    }\n",
              "</style>\n",
              "<table border=\"1\" class=\"dataframe\">\n",
              "  <thead>\n",
              "    <tr style=\"text-align: right;\">\n",
              "      <th></th>\n",
              "      <th>Model</th>\n",
              "      <th>R2 Score</th>\n",
              "      <th>Mean squared error</th>\n",
              "    </tr>\n",
              "  </thead>\n",
              "  <tbody>\n",
              "    <tr>\n",
              "      <th>0</th>\n",
              "      <td>Linear Regression</td>\n",
              "      <td>0.844826</td>\n",
              "      <td>0.844385</td>\n",
              "    </tr>\n",
              "    <tr>\n",
              "      <th>1</th>\n",
              "      <td>Polynomial Regression</td>\n",
              "      <td>0.867802</td>\n",
              "      <td>0.797668</td>\n",
              "    </tr>\n",
              "    <tr>\n",
              "      <th>2</th>\n",
              "      <td>Support vector Regression</td>\n",
              "      <td>0.654424</td>\n",
              "      <td>0.658895</td>\n",
              "    </tr>\n",
              "    <tr>\n",
              "      <th>3</th>\n",
              "      <td>Ridge Regression</td>\n",
              "      <td>0.844533</td>\n",
              "      <td>0.845153</td>\n",
              "    </tr>\n",
              "    <tr>\n",
              "      <th>4</th>\n",
              "      <td>Lasso Regression</td>\n",
              "      <td>0.835233</td>\n",
              "      <td>0.869540</td>\n",
              "    </tr>\n",
              "    <tr>\n",
              "      <th>5</th>\n",
              "      <td>Elastic Net Regression</td>\n",
              "      <td>0.887114</td>\n",
              "      <td>0.624135</td>\n",
              "    </tr>\n",
              "  </tbody>\n",
              "</table>\n",
              "</div>"
            ],
            "text/plain": [
              "                       Model  R2 Score  Mean squared error\n",
              "0          Linear Regression  0.844826            0.844385\n",
              "1      Polynomial Regression  0.867802            0.797668\n",
              "2  Support vector Regression  0.654424            0.658895\n",
              "3           Ridge Regression  0.844533            0.845153\n",
              "4           Lasso Regression  0.835233            0.869540\n",
              "5     Elastic Net Regression  0.887114            0.624135"
            ]
          },
          "execution_count": 71,
          "metadata": {},
          "output_type": "execute_result"
        }
      ],
      "source": [
        "Results"
      ]
    },
    {
      "cell_type": "code",
      "execution_count": null,
      "id": "fbb33037",
      "metadata": {
        "id": "fbb33037"
      },
      "outputs": [],
      "source": [
        "import pickle\n",
        "\n",
        "with open('water_pred_model.pkl', 'wb') as files:\n",
        "    pickle.dump(elasticNet, files)"
      ]
    },
    {
      "cell_type": "code",
      "execution_count": null,
      "id": "4f2548e9",
      "metadata": {
        "id": "4f2548e9"
      },
      "outputs": [],
      "source": []
    }
  ],
  "metadata": {
    "colab": {
      "provenance": []
    },
    "kernelspec": {
      "display_name": "Python 3",
      "language": "python",
      "name": "python3"
    },
    "language_info": {
      "codemirror_mode": {
        "name": "ipython",
        "version": 3
      },
      "file_extension": ".py",
      "mimetype": "text/x-python",
      "name": "python",
      "nbconvert_exporter": "python",
      "pygments_lexer": "ipython3",
      "version": "3.8.8"
    }
  },
  "nbformat": 4,
  "nbformat_minor": 5
}
