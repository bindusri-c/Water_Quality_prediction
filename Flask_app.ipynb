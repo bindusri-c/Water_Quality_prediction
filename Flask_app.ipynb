{
  "cells": [
    {
      "cell_type": "code",
      "execution_count": null,
      "id": "201a2956",
      "metadata": {
        "id": "201a2956",
        "outputId": "fe91c9bb-00a5-47a1-dda3-df228b27b96d",
        "colab": {
          "base_uri": "https://localhost:8080/",
          "height": 235
        }
      },
      "outputs": [
        {
          "output_type": "error",
          "ename": "FileNotFoundError",
          "evalue": "ignored",
          "traceback": [
            "\u001b[0;31m---------------------------------------------------------------------------\u001b[0m",
            "\u001b[0;31mFileNotFoundError\u001b[0m                         Traceback (most recent call last)",
            "\u001b[0;32m<ipython-input-1-d6e229fd799d>\u001b[0m in \u001b[0;36m<module>\u001b[0;34m\u001b[0m\n\u001b[1;32m      5\u001b[0m \u001b[0mapp\u001b[0m \u001b[0;34m=\u001b[0m \u001b[0mFlask\u001b[0m\u001b[0;34m(\u001b[0m\u001b[0m__name__\u001b[0m\u001b[0;34m)\u001b[0m\u001b[0;34m\u001b[0m\u001b[0;34m\u001b[0m\u001b[0m\n\u001b[1;32m      6\u001b[0m \u001b[0;31m#run_with_ngrok(app)\u001b[0m\u001b[0;34m\u001b[0m\u001b[0;34m\u001b[0m\u001b[0m\n\u001b[0;32m----> 7\u001b[0;31m \u001b[0mmodel\u001b[0m \u001b[0;34m=\u001b[0m \u001b[0mpickle\u001b[0m\u001b[0;34m.\u001b[0m\u001b[0mload\u001b[0m\u001b[0;34m(\u001b[0m\u001b[0mopen\u001b[0m\u001b[0;34m(\u001b[0m\u001b[0;34m'water_pred_model.pkl'\u001b[0m\u001b[0;34m,\u001b[0m \u001b[0;34m'rb'\u001b[0m\u001b[0;34m)\u001b[0m\u001b[0;34m)\u001b[0m\u001b[0;34m\u001b[0m\u001b[0;34m\u001b[0m\u001b[0m\n\u001b[0m\u001b[1;32m      8\u001b[0m \u001b[0;34m\u001b[0m\u001b[0m\n\u001b[1;32m      9\u001b[0m \u001b[0;34m@\u001b[0m\u001b[0mapp\u001b[0m\u001b[0;34m.\u001b[0m\u001b[0mroute\u001b[0m\u001b[0;34m(\u001b[0m\u001b[0;34m'/'\u001b[0m\u001b[0;34m)\u001b[0m\u001b[0;34m\u001b[0m\u001b[0;34m\u001b[0m\u001b[0m\n",
            "\u001b[0;31mFileNotFoundError\u001b[0m: [Errno 2] No such file or directory: 'water_pred_model.pkl'"
          ]
        }
      ],
      "source": [
        "import numpy as np\n",
        "from flask import Flask, request, render_template\n",
        "import pickle\n",
        "##from flask_ngrok import run_with_ngrok\n",
        "app = Flask(__name__)\n",
        "#run_with_ngrok(app)\n",
        "model = pickle.load(open('water_pred_model.pkl', 'rb'))\n",
        "\n",
        "@app.route('/')\n",
        "def home():\n",
        "    return render_template('Pro2.html')\n",
        "\n",
        "@app.route('/predict',methods=['POST'])\n",
        "def predict():\n",
        "    input = [float(x) for x in request.form.values()]\n",
        "    prev_year=[np.array([input[0]-1])]\n",
        "    final_input = [np.array(input)]\n",
        "    prev_pred=model.predict(prev_year)\n",
        "\n",
        "    prediction = model.predict(final_input)\n",
        "\n",
        "    percentage=((prediction-prev_pred)/(prev_pred))*100\n",
        "    p_i_d=''\n",
        "    if(percentage>0):\n",
        "        p_i_d='Increased by {}%'.format(round(percentage[0],1))\n",
        "    elif(percentage==0):\n",
        "        p_i_d='Remained Constant'\n",
        "    else:\n",
        "        p_i_d='Decreased by {}%'.format(round(percentage[0],1))\n",
        "\n",
        "    n=prediction\n",
        "    result=''\n",
        "    if(n>90):\n",
        "        result=\"Excellent water quality and water can be used for drinking,irrigation and indutrial purposes.\"\n",
        "    elif(n<=90 and n>70):\n",
        "        result=\"Good water quality and water can be used for drinking,irrigation and indutrial purposes with some minor treatment.\"\n",
        "    elif(n<=70 and n>50):\n",
        "        result= \"Medium water quality and water can be used for irrigation and industrial purposes with some minor treatment.\"\n",
        "    elif(n<=50 and n>25):\n",
        "        result=\"Bad water quality and water can be used for irrigation purposes with some minor treatment.\"\n",
        "    else:\n",
        "        result=\"Very poor water quality and water needs a proper treatment for any kind of usage.\"\n",
        "\n",
        "    if(input[0]<2007 or input[0]>=2024):\n",
        "         return render_template('Pro.html',prediction_text='Results may not be accurate')\n",
        "\n",
        "    return render_template('Pro2.html',prediction_text=\"{}\".format(round(prediction[0],2)),Per=p_i_d,QNU=result)\n",
        "\n",
        "if __name__ == \"__main__\":\n",
        "    app.debug=True\n",
        "    app.run(use_reloader=False)"
      ]
    },
    {
      "cell_type": "code",
      "execution_count": null,
      "id": "362ec03b",
      "metadata": {
        "id": "362ec03b"
      },
      "outputs": [],
      "source": []
    }
  ],
  "metadata": {
    "kernelspec": {
      "display_name": "Python 3",
      "language": "python",
      "name": "python3"
    },
    "language_info": {
      "codemirror_mode": {
        "name": "ipython",
        "version": 3
      },
      "file_extension": ".py",
      "mimetype": "text/x-python",
      "name": "python",
      "nbconvert_exporter": "python",
      "pygments_lexer": "ipython3",
      "version": "3.8.8"
    },
    "colab": {
      "provenance": []
    }
  },
  "nbformat": 4,
  "nbformat_minor": 5
}